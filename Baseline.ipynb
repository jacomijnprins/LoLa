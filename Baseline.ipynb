{
 "cells": [
  {
   "cell_type": "code",
   "execution_count": 1,
   "metadata": {},
   "outputs": [
    {
     "name": "stderr",
     "output_type": "stream",
     "text": [
      "/opt/miniconda3/lib/python3.12/site-packages/tqdm/auto.py:21: TqdmWarning: IProgress not found. Please update jupyter and ipywidgets. See https://ipywidgets.readthedocs.io/en/stable/user_install.html\n",
      "  from .autonotebook import tqdm as notebook_tqdm\n"
     ]
    }
   ],
   "source": [
    "from datasets import load_dataset\n",
    "import numpy as np\n",
    "import random\n",
    "from sklearn.metrics import accuracy_score, precision_recall_fscore_support\n",
    "from transformers import AutoTokenizer, AutoModelForSequenceClassification, TrainingArguments, Trainer, AutoConfig"
   ]
  },
  {
   "cell_type": "code",
   "execution_count": 3,
   "metadata": {},
   "outputs": [],
   "source": [
    "snli = load_dataset(\"snli\")\n",
    "for split in snli:\n",
    "    snli[split] = snli[split].filter(lambda x: x[\"label\"] >= 0)"
   ]
  },
  {
   "cell_type": "code",
   "execution_count": 4,
   "metadata": {},
   "outputs": [
    {
     "name": "stderr",
     "output_type": "stream",
     "text": [
      "Some weights of DistilBertForSequenceClassification were not initialized from the model checkpoint at distilbert-base-uncased and are newly initialized: ['classifier.bias', 'classifier.weight', 'pre_classifier.bias', 'pre_classifier.weight']\n",
      "You should probably TRAIN this model on a down-stream task to be able to use it for predictions and inference.\n"
     ]
    }
   ],
   "source": [
    "#Load the tokenizer and model\n",
    "model_checkpoint = \"distilbert-base-uncased\"\n",
    "tokenizer = AutoTokenizer.from_pretrained(model_checkpoint)\n",
    "\n",
    "model = AutoModelForSequenceClassification.from_pretrained(model_checkpoint, num_labels=3)\n"
   ]
  },
  {
   "cell_type": "code",
   "execution_count": 5,
   "metadata": {},
   "outputs": [
    {
     "name": "stderr",
     "output_type": "stream",
     "text": [
      "Map: 100%|██████████| 9824/9824 [00:02<00:00, 4790.44 examples/s]\n",
      "Map: 100%|██████████| 9842/9842 [00:01<00:00, 7099.28 examples/s]\n",
      "Map: 100%|██████████| 549367/549367 [01:50<00:00, 4953.04 examples/s]\n"
     ]
    }
   ],
   "source": [
    "# Tokenization function\n",
    "def tokenize_function(examples):\n",
    "    return tokenizer(examples[\"premise\"], examples[\"hypothesis\"], truncation=True)\n",
    "\n",
    "# Tokenize the dataset\n",
    "encoded_snli = snli.map(tokenize_function, batched=True)\n",
    "    \n",
    "# Specify sample size\n",
    "sample_size = 2000\n",
    "\n",
    "# Ensure reproducibility\n",
    "random.seed(68)\n",
    "\n",
    "# Randomly sample 10 subsets\n",
    "subsets = []\n",
    "for idx in range(10):\n",
    "  subset = encoded_snli['train'].shuffle(seed=68+9-idx).select(range(sample_size))\n",
    "  subsets.append(subset)"
   ]
  },
  {
   "cell_type": "code",
   "execution_count": 6,
   "metadata": {},
   "outputs": [],
   "source": [
    "def compute_metrics(eval_pred):\n",
    "    predictions, labels = eval_pred\n",
    "    predictions = np.argmax(predictions, axis=1)\n",
    "    precision, recall, f1, _ = precision_recall_fscore_support(labels, predictions, average=\"weighted\")\n",
    "    accuracy = accuracy_score(labels, predictions)\n",
    "    return {\"accuracy\": accuracy, \"f1\": f1, \"precision\": precision, \"recall\": recall}"
   ]
  },
  {
   "cell_type": "code",
   "execution_count": 9,
   "metadata": {},
   "outputs": [],
   "source": [
    "def train_model(training_data):\n",
    "  for idx in range(len(training_data)):\n",
    "    subset = training_data[idx]\n",
    "\n",
    "    training_args = TrainingArguments(\n",
    "      output_dir= \"\".join([\"./results\", str(idx)]),\n",
    "      evaluation_strategy=\"epoch\",\n",
    "      learning_rate=2e-05,\n",
    "      per_device_train_batch_size=16,\n",
    "      per_device_eval_batch_size=16,\n",
    "      num_train_epochs=1,\n",
    "      weight_decay=0.01,\n",
    "      save_strategy=\"epoch\",\n",
    "      load_best_model_at_end=True,\n",
    "      metric_for_best_model=\"accuracy\",)\n",
    "\n",
    "    trainer = Trainer(\n",
    "        model=model,\n",
    "        args=training_args,\n",
    "        train_dataset=subset,\n",
    "        eval_dataset=encoded_snli[\"validation\"],\n",
    "        tokenizer=tokenizer,\n",
    "        compute_metrics=compute_metrics)\n",
    "\n",
    "    trainer.train()\n"
   ]
  },
  {
   "cell_type": "code",
   "execution_count": 10,
   "metadata": {},
   "outputs": [
    {
     "name": "stderr",
     "output_type": "stream",
     "text": [
      "/opt/miniconda3/lib/python3.12/site-packages/transformers/training_args.py:1575: FutureWarning: `evaluation_strategy` is deprecated and will be removed in version 4.46 of 🤗 Transformers. Use `eval_strategy` instead\n",
      "  warnings.warn(\n",
      "/var/folders/ty/mztdvdnn2l72hll5mys82f3c0000gn/T/ipykernel_10260/1042977821.py:17: FutureWarning: `tokenizer` is deprecated and will be removed in version 5.0.0 for `Trainer.__init__`. Use `processing_class` instead.\n",
      "  trainer = Trainer(\n",
      "                                                 \n",
      "100%|██████████| 125/125 [08:49<00:00,  2.14s/it]"
     ]
    },
    {
     "name": "stdout",
     "output_type": "stream",
     "text": [
      "{'eval_loss': 1.0591257810592651, 'eval_accuracy': 0.4470636049583418, 'eval_f1': 0.4174311815515342, 'eval_precision': 0.5277979180476682, 'eval_recall': 0.4470636049583418, 'eval_runtime': 262.128, 'eval_samples_per_second': 37.547, 'eval_steps_per_second': 2.35, 'epoch': 1.0}\n"
     ]
    },
    {
     "name": "stderr",
     "output_type": "stream",
     "text": [
      "100%|██████████| 125/125 [08:54<00:00,  4.28s/it]\n",
      "/opt/miniconda3/lib/python3.12/site-packages/transformers/training_args.py:1575: FutureWarning: `evaluation_strategy` is deprecated and will be removed in version 4.46 of 🤗 Transformers. Use `eval_strategy` instead\n",
      "  warnings.warn(\n",
      "/var/folders/ty/mztdvdnn2l72hll5mys82f3c0000gn/T/ipykernel_10260/1042977821.py:17: FutureWarning: `tokenizer` is deprecated and will be removed in version 5.0.0 for `Trainer.__init__`. Use `processing_class` instead.\n",
      "  trainer = Trainer(\n"
     ]
    },
    {
     "name": "stdout",
     "output_type": "stream",
     "text": [
      "{'train_runtime': 534.4926, 'train_samples_per_second': 3.742, 'train_steps_per_second': 0.234, 'train_loss': 1.0857064208984375, 'epoch': 1.0}\n"
     ]
    },
    {
     "name": "stderr",
     "output_type": "stream",
     "text": [
      "                                                 \n",
      "100%|██████████| 125/125 [09:47<00:00,  2.01s/it]"
     ]
    },
    {
     "name": "stdout",
     "output_type": "stream",
     "text": [
      "{'eval_loss': 0.8226264715194702, 'eval_accuracy': 0.6729323308270677, 'eval_f1': 0.6686017393753599, 'eval_precision': 0.6732637016450126, 'eval_recall': 0.6729323308270677, 'eval_runtime': 286.7812, 'eval_samples_per_second': 34.319, 'eval_steps_per_second': 2.148, 'epoch': 1.0}\n"
     ]
    },
    {
     "name": "stderr",
     "output_type": "stream",
     "text": [
      "100%|██████████| 125/125 [09:59<00:00,  4.80s/it]\n",
      "/opt/miniconda3/lib/python3.12/site-packages/transformers/training_args.py:1575: FutureWarning: `evaluation_strategy` is deprecated and will be removed in version 4.46 of 🤗 Transformers. Use `eval_strategy` instead\n",
      "  warnings.warn(\n",
      "/var/folders/ty/mztdvdnn2l72hll5mys82f3c0000gn/T/ipykernel_10260/1042977821.py:17: FutureWarning: `tokenizer` is deprecated and will be removed in version 5.0.0 for `Trainer.__init__`. Use `processing_class` instead.\n",
      "  trainer = Trainer(\n"
     ]
    },
    {
     "name": "stdout",
     "output_type": "stream",
     "text": [
      "{'train_runtime': 599.3716, 'train_samples_per_second': 3.337, 'train_steps_per_second': 0.209, 'train_loss': 0.95858740234375, 'epoch': 1.0}\n"
     ]
    },
    {
     "name": "stderr",
     "output_type": "stream",
     "text": [
      "100%|██████████| 125/125 [04:35<00:00,  1.86s/it]\n",
      "100%|██████████| 125/125 [09:11<00:00,  1.86s/it]"
     ]
    },
    {
     "name": "stdout",
     "output_type": "stream",
     "text": [
      "{'eval_loss': 0.7231476306915283, 'eval_accuracy': 0.6994513310302783, 'eval_f1': 0.6985844526244166, 'eval_precision': 0.7023731245773276, 'eval_recall': 0.6994513310302783, 'eval_runtime': 271.6009, 'eval_samples_per_second': 36.237, 'eval_steps_per_second': 2.268, 'epoch': 1.0}\n"
     ]
    },
    {
     "name": "stderr",
     "output_type": "stream",
     "text": [
      "100%|██████████| 125/125 [09:21<00:00,  4.49s/it]\n",
      "/opt/miniconda3/lib/python3.12/site-packages/transformers/training_args.py:1575: FutureWarning: `evaluation_strategy` is deprecated and will be removed in version 4.46 of 🤗 Transformers. Use `eval_strategy` instead\n",
      "  warnings.warn(\n",
      "/var/folders/ty/mztdvdnn2l72hll5mys82f3c0000gn/T/ipykernel_10260/1042977821.py:17: FutureWarning: `tokenizer` is deprecated and will be removed in version 5.0.0 for `Trainer.__init__`. Use `processing_class` instead.\n",
      "  trainer = Trainer(\n"
     ]
    },
    {
     "name": "stdout",
     "output_type": "stream",
     "text": [
      "{'train_runtime': 561.013, 'train_samples_per_second': 3.565, 'train_steps_per_second': 0.223, 'train_loss': 0.7986385498046875, 'epoch': 1.0}\n"
     ]
    },
    {
     "name": "stderr",
     "output_type": "stream",
     "text": [
      "                                                 \n",
      "100%|██████████| 125/125 [10:06<00:00,  1.91s/it]"
     ]
    },
    {
     "name": "stdout",
     "output_type": "stream",
     "text": [
      "{'eval_loss': 0.6739460229873657, 'eval_accuracy': 0.7234301971144076, 'eval_f1': 0.7234031101831481, 'eval_precision': 0.725467008300275, 'eval_recall': 0.7234301971144076, 'eval_runtime': 345.0695, 'eval_samples_per_second': 28.522, 'eval_steps_per_second': 1.785, 'epoch': 1.0}\n"
     ]
    },
    {
     "name": "stderr",
     "output_type": "stream",
     "text": [
      "100%|██████████| 125/125 [10:15<00:00,  4.93s/it]\n",
      "/opt/miniconda3/lib/python3.12/site-packages/transformers/training_args.py:1575: FutureWarning: `evaluation_strategy` is deprecated and will be removed in version 4.46 of 🤗 Transformers. Use `eval_strategy` instead\n",
      "  warnings.warn(\n",
      "/var/folders/ty/mztdvdnn2l72hll5mys82f3c0000gn/T/ipykernel_10260/1042977821.py:17: FutureWarning: `tokenizer` is deprecated and will be removed in version 5.0.0 for `Trainer.__init__`. Use `processing_class` instead.\n",
      "  trainer = Trainer(\n"
     ]
    },
    {
     "name": "stdout",
     "output_type": "stream",
     "text": [
      "{'train_runtime': 615.7204, 'train_samples_per_second': 3.248, 'train_steps_per_second': 0.203, 'train_loss': 0.7288319702148438, 'epoch': 1.0}\n"
     ]
    },
    {
     "name": "stderr",
     "output_type": "stream",
     "text": [
      "100%|██████████| 125/125 [04:23<00:00,  2.61s/it]\n",
      "100%|██████████| 125/125 [09:08<00:00,  2.61s/it]"
     ]
    },
    {
     "name": "stdout",
     "output_type": "stream",
     "text": [
      "{'eval_loss': 0.6406736969947815, 'eval_accuracy': 0.7398902662060557, 'eval_f1': 0.7375302198908631, 'eval_precision': 0.7381042749826953, 'eval_recall': 0.7398902662060557, 'eval_runtime': 280.1789, 'eval_samples_per_second': 35.128, 'eval_steps_per_second': 2.199, 'epoch': 1.0}\n"
     ]
    },
    {
     "name": "stderr",
     "output_type": "stream",
     "text": [
      "100%|██████████| 125/125 [09:17<00:00,  4.46s/it]\n",
      "/opt/miniconda3/lib/python3.12/site-packages/transformers/training_args.py:1575: FutureWarning: `evaluation_strategy` is deprecated and will be removed in version 4.46 of 🤗 Transformers. Use `eval_strategy` instead\n",
      "  warnings.warn(\n",
      "/var/folders/ty/mztdvdnn2l72hll5mys82f3c0000gn/T/ipykernel_10260/1042977821.py:17: FutureWarning: `tokenizer` is deprecated and will be removed in version 5.0.0 for `Trainer.__init__`. Use `processing_class` instead.\n",
      "  trainer = Trainer(\n"
     ]
    },
    {
     "name": "stdout",
     "output_type": "stream",
     "text": [
      "{'train_runtime': 557.2478, 'train_samples_per_second': 3.589, 'train_steps_per_second': 0.224, 'train_loss': 0.7246220703125, 'epoch': 1.0}\n"
     ]
    },
    {
     "name": "stderr",
     "output_type": "stream",
     "text": [
      "                                                 \n",
      "100%|██████████| 125/125 [09:26<00:00,  1.70s/it]"
     ]
    },
    {
     "name": "stdout",
     "output_type": "stream",
     "text": [
      "{'eval_loss': 0.6280561089515686, 'eval_accuracy': 0.7415159520422678, 'eval_f1': 0.7386606437736406, 'eval_precision': 0.7428850104494386, 'eval_recall': 0.7415159520422678, 'eval_runtime': 283.1401, 'eval_samples_per_second': 34.76, 'eval_steps_per_second': 2.176, 'epoch': 1.0}\n"
     ]
    },
    {
     "name": "stderr",
     "output_type": "stream",
     "text": [
      "100%|██████████| 125/125 [09:36<00:00,  4.61s/it]\n",
      "/opt/miniconda3/lib/python3.12/site-packages/transformers/training_args.py:1575: FutureWarning: `evaluation_strategy` is deprecated and will be removed in version 4.46 of 🤗 Transformers. Use `eval_strategy` instead\n",
      "  warnings.warn(\n",
      "/var/folders/ty/mztdvdnn2l72hll5mys82f3c0000gn/T/ipykernel_10260/1042977821.py:17: FutureWarning: `tokenizer` is deprecated and will be removed in version 5.0.0 for `Trainer.__init__`. Use `processing_class` instead.\n",
      "  trainer = Trainer(\n"
     ]
    },
    {
     "name": "stdout",
     "output_type": "stream",
     "text": [
      "{'train_runtime': 576.6831, 'train_samples_per_second': 3.468, 'train_steps_per_second': 0.217, 'train_loss': 0.6986270141601563, 'epoch': 1.0}\n"
     ]
    },
    {
     "name": "stderr",
     "output_type": "stream",
     "text": [
      "100%|██████████| 125/125 [03:53<00:00,  1.68s/it]\n",
      "100%|██████████| 125/125 [09:17<00:00,  1.68s/it]"
     ]
    },
    {
     "name": "stdout",
     "output_type": "stream",
     "text": [
      "{'eval_loss': 0.595384955406189, 'eval_accuracy': 0.7581792318634424, 'eval_f1': 0.7585273160255664, 'eval_precision': 0.7596022715265934, 'eval_recall': 0.7581792318634424, 'eval_runtime': 319.6211, 'eval_samples_per_second': 30.793, 'eval_steps_per_second': 1.927, 'epoch': 1.0}\n"
     ]
    },
    {
     "name": "stderr",
     "output_type": "stream",
     "text": [
      "100%|██████████| 125/125 [09:26<00:00,  4.53s/it]\n",
      "/opt/miniconda3/lib/python3.12/site-packages/transformers/training_args.py:1575: FutureWarning: `evaluation_strategy` is deprecated and will be removed in version 4.46 of 🤗 Transformers. Use `eval_strategy` instead\n",
      "  warnings.warn(\n",
      "/var/folders/ty/mztdvdnn2l72hll5mys82f3c0000gn/T/ipykernel_10260/1042977821.py:17: FutureWarning: `tokenizer` is deprecated and will be removed in version 5.0.0 for `Trainer.__init__`. Use `processing_class` instead.\n",
      "  trainer = Trainer(\n"
     ]
    },
    {
     "name": "stdout",
     "output_type": "stream",
     "text": [
      "{'train_runtime': 566.3596, 'train_samples_per_second': 3.531, 'train_steps_per_second': 0.221, 'train_loss': 0.6770763549804687, 'epoch': 1.0}\n"
     ]
    },
    {
     "name": "stderr",
     "output_type": "stream",
     "text": [
      "100%|██████████| 125/125 [04:27<00:00,  2.09s/it]\n",
      "100%|██████████| 125/125 [09:05<00:00,  2.09s/it]"
     ]
    },
    {
     "name": "stdout",
     "output_type": "stream",
     "text": [
      "{'eval_loss': 0.5831061005592346, 'eval_accuracy': 0.7673237146921358, 'eval_f1': 0.7670619192126339, 'eval_precision': 0.7668702053148707, 'eval_recall': 0.7673237146921358, 'eval_runtime': 273.1881, 'eval_samples_per_second': 36.026, 'eval_steps_per_second': 2.255, 'epoch': 1.0}\n"
     ]
    },
    {
     "name": "stderr",
     "output_type": "stream",
     "text": [
      "100%|██████████| 125/125 [09:15<00:00,  4.44s/it]\n",
      "/opt/miniconda3/lib/python3.12/site-packages/transformers/training_args.py:1575: FutureWarning: `evaluation_strategy` is deprecated and will be removed in version 4.46 of 🤗 Transformers. Use `eval_strategy` instead\n",
      "  warnings.warn(\n",
      "/var/folders/ty/mztdvdnn2l72hll5mys82f3c0000gn/T/ipykernel_10260/1042977821.py:17: FutureWarning: `tokenizer` is deprecated and will be removed in version 5.0.0 for `Trainer.__init__`. Use `processing_class` instead.\n",
      "  trainer = Trainer(\n"
     ]
    },
    {
     "name": "stdout",
     "output_type": "stream",
     "text": [
      "{'train_runtime': 555.5783, 'train_samples_per_second': 3.6, 'train_steps_per_second': 0.225, 'train_loss': 0.664669189453125, 'epoch': 1.0}\n"
     ]
    },
    {
     "name": "stderr",
     "output_type": "stream",
     "text": [
      "100%|██████████| 125/125 [04:05<00:00,  1.84s/it]\n",
      "100%|██████████| 125/125 [08:12<00:00,  1.84s/it]"
     ]
    },
    {
     "name": "stdout",
     "output_type": "stream",
     "text": [
      "{'eval_loss': 0.5910376906394958, 'eval_accuracy': 0.7668156878683194, 'eval_f1': 0.7656094426142411, 'eval_precision': 0.7677651224524598, 'eval_recall': 0.7668156878683194, 'eval_runtime': 242.4728, 'eval_samples_per_second': 40.59, 'eval_steps_per_second': 2.54, 'epoch': 1.0}\n"
     ]
    },
    {
     "name": "stderr",
     "output_type": "stream",
     "text": [
      "100%|██████████| 125/125 [08:16<00:00,  3.97s/it]\n",
      "/opt/miniconda3/lib/python3.12/site-packages/transformers/training_args.py:1575: FutureWarning: `evaluation_strategy` is deprecated and will be removed in version 4.46 of 🤗 Transformers. Use `eval_strategy` instead\n",
      "  warnings.warn(\n",
      "/var/folders/ty/mztdvdnn2l72hll5mys82f3c0000gn/T/ipykernel_10260/1042977821.py:17: FutureWarning: `tokenizer` is deprecated and will be removed in version 5.0.0 for `Trainer.__init__`. Use `processing_class` instead.\n",
      "  trainer = Trainer(\n"
     ]
    },
    {
     "name": "stdout",
     "output_type": "stream",
     "text": [
      "{'train_runtime': 496.8469, 'train_samples_per_second': 4.025, 'train_steps_per_second': 0.252, 'train_loss': 0.6224588012695312, 'epoch': 1.0}\n"
     ]
    },
    {
     "name": "stderr",
     "output_type": "stream",
     "text": [
      "100%|██████████| 125/125 [03:30<00:00,  1.60s/it]\n",
      "100%|██████████| 125/125 [07:45<00:00,  1.60s/it]"
     ]
    },
    {
     "name": "stdout",
     "output_type": "stream",
     "text": [
      "{'eval_loss': 0.5648350715637207, 'eval_accuracy': 0.7763665921560658, 'eval_f1': 0.7748484593190571, 'eval_precision': 0.7750725566945951, 'eval_recall': 0.7763665921560658, 'eval_runtime': 251.8398, 'eval_samples_per_second': 39.08, 'eval_steps_per_second': 2.446, 'epoch': 1.0}\n"
     ]
    },
    {
     "name": "stderr",
     "output_type": "stream",
     "text": [
      "100%|██████████| 125/125 [07:52<00:00,  3.78s/it]"
     ]
    },
    {
     "name": "stdout",
     "output_type": "stream",
     "text": [
      "{'train_runtime': 472.0332, 'train_samples_per_second': 4.237, 'train_steps_per_second': 0.265, 'train_loss': 0.6273997802734375, 'epoch': 1.0}\n"
     ]
    },
    {
     "name": "stderr",
     "output_type": "stream",
     "text": [
      "\n"
     ]
    }
   ],
   "source": [
    "train_model(subsets)"
   ]
  }
 ],
 "metadata": {
  "kernelspec": {
   "display_name": "base",
   "language": "python",
   "name": "python3"
  },
  "language_info": {
   "codemirror_mode": {
    "name": "ipython",
    "version": 3
   },
   "file_extension": ".py",
   "mimetype": "text/x-python",
   "name": "python",
   "nbconvert_exporter": "python",
   "pygments_lexer": "ipython3",
   "version": "3.12.2"
  }
 },
 "nbformat": 4,
 "nbformat_minor": 2
}
